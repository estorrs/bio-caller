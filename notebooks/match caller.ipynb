{
 "cells": [
  {
   "cell_type": "code",
   "execution_count": 1,
   "metadata": {},
   "outputs": [],
   "source": [
    "import os\n",
    "from multiprocessing import Pool\n",
    "\n",
    "import pandas as pd\n"
   ]
  },
  {
   "cell_type": "code",
   "execution_count": 2,
   "metadata": {},
   "outputs": [],
   "source": [
    "def get_readcount_fps_from_dir(dir_path, readcount_extension=True):\n",
    "    fps = os.listdir(dir_path)\n",
    "    \n",
    "    if readcount_extension:\n",
    "        fps = [fp for fp in fps\n",
    "              if '.readcount' in fp]\n",
    "    \n",
    "    return [os.path.join(dir_path, fp) for fp in fps]"
   ]
  },
  {
   "cell_type": "code",
   "execution_count": 3,
   "metadata": {},
   "outputs": [],
   "source": [
    "CHROM_INDEX = 0\n",
    "POS_INDEX = 1\n",
    "REF_INDEX = 2\n",
    "DEPTH_INDEX = 3\n",
    "BASE_INDEX = 4"
   ]
  },
  {
   "cell_type": "code",
   "execution_count": null,
   "metadata": {},
   "outputs": [],
   "source": [
    "# READCOUNT_DIR = '/diskmnt/Projects/Users/estorrs/data/ancestry/MM/readcounts/'\n",
    "READCOUNT_DIR = '/diskmnt/Projects/Users/estorrs/data/ancestry/MM/readcounts/'\n",
    "GENOMES_VCF = '/diskmnt/Projects/Users/estorrs/1000-genomes/GRCh37/all.coding.sorted.02maf.10000sampled.sorted.snps.vcf'\n",
    "OUTPUT_VCF_FP = '/diskmnt/Projects/Users/estorrs/data/ancestry/MM/temp/mm.called_samples.vcf'"
   ]
  },
  {
   "cell_type": "code",
   "execution_count": 4,
   "metadata": {},
   "outputs": [],
   "source": [
    "READCOUNT_DIR = '/gscmnt/gc2737/ding/estorrs/ancestry/MMRF/readcounts/'\n",
    "GENOMES_VCF = '/gscmnt/gc2737/ding/estorrs/1000-genomes/GRCh37/all.coding.sorted.02maf.10000sampled.sorted.snps.vcf'\n",
    "OUTPUT_VCF_FP = '/gscmnt/gc2737/ding/estorrs/ancestry/MMRF/vcf/called.vcf'"
   ]
  },
  {
   "cell_type": "code",
   "execution_count": 16,
   "metadata": {},
   "outputs": [],
   "source": [
    "fps = get_readcount_fps_from_dir(READCOUNT_DIR)"
   ]
  },
  {
   "cell_type": "code",
   "execution_count": 7,
   "metadata": {},
   "outputs": [
    {
     "data": {
      "text/plain": [
       "['/gscmnt/gc2737/ding/estorrs/ancestry/MMRF/readcounts/MMRF_1151_1.readcount',\n",
       " '/gscmnt/gc2737/ding/estorrs/ancestry/MMRF/readcounts/MMRF_2557_1.readcount',\n",
       " '/gscmnt/gc2737/ding/estorrs/ancestry/MMRF/readcounts/MMRF_2327_1.readcount',\n",
       " '/gscmnt/gc2737/ding/estorrs/ancestry/MMRF/readcounts/MMRF_2141_1.readcount',\n",
       " '/gscmnt/gc2737/ding/estorrs/ancestry/MMRF/readcounts/MMRF_2685_1.readcount']"
      ]
     },
     "execution_count": 7,
     "metadata": {},
     "output_type": "execute_result"
    }
   ],
   "source": [
    "fps[:5]"
   ]
  },
  {
   "cell_type": "code",
   "execution_count": 8,
   "metadata": {},
   "outputs": [],
   "source": [
    "def get_headerless_vcf_df(f_obj, stop_on='#CHROM'):\n",
    "    line = ''\n",
    "    header = ''\n",
    "    while True:\n",
    "        line = f_obj.readline()\n",
    "        header += line\n",
    "        if line[:6] == stop_on:\n",
    "            break\n",
    "            \n",
    "    df = pd.read_csv(f_obj, sep='\\t', header=None)\n",
    "    df.columns = line[1:].replace('\"\"', '').replace('\\n', '').split('\\t')\n",
    "\n",
    "    return df, header\n",
    "\n",
    "def get_headerless_vcf_position_tups(f_obj, stop_on='#CHROM', add_chr=True):\n",
    "    header = ''\n",
    "    in_header = True\n",
    "    tups = []\n",
    "    for line in f_obj:\n",
    "        if in_header:\n",
    "            header += line\n",
    "            if line[:6] == stop_on:\n",
    "                in_header=False\n",
    "        else:\n",
    "            pieces = line.split('\\t', 5)\n",
    "            chrom = pieces[0]\n",
    "            if add_chr and 'chr' not in chrom:\n",
    "                chrom = 'chr' + chrom\n",
    "            \n",
    "            pos = pieces[1]\n",
    "            ref = pieces[3]\n",
    "            alt = pieces[4]\n",
    "            \n",
    "            \n",
    "            tups.append((chrom, pos, ref, alt))\n",
    "\n",
    "    return tups, header\n"
   ]
  },
  {
   "cell_type": "code",
   "execution_count": 9,
   "metadata": {},
   "outputs": [],
   "source": [
    "def breakdown_readcount_line(line, add_chr=True):\n",
    "    pieces = line.split('\\t')\n",
    "    \n",
    "    chrom = pieces[CHROM_INDEX]\n",
    "    if add_chr and 'chr' not in chrom:\n",
    "        chrom = 'chr' + chrom\n",
    "        \n",
    "    pos = pieces[POS_INDEX]\n",
    "    ref = pieces[REF_INDEX]\n",
    "    depth = int(pieces[DEPTH_INDEX])\n",
    "    \n",
    "    d = {}\n",
    "    for base_chunk in pieces[BASE_INDEX:]:\n",
    "        ps = base_chunk.split(':', 2)\n",
    "        d[ps[0]] = int(ps[1])\n",
    "    \n",
    "    return chrom, pos, ref, depth, d\n",
    "    \n",
    "    \n",
    "def get_readcount_dict(readcount_fp):\n",
    "    \"\"\"\n",
    "    readcount_dict - {(chr:pos:ref): {base_dict: {a:40....}, depth: 60}}\n",
    "    \"\"\"\n",
    "    f = open(readcount_fp)\n",
    "    readcount_dict = {}\n",
    "    for line in f:\n",
    "        chrom, pos, ref, depth, base_dict = breakdown_readcount_line(line)\n",
    "        readcount_dict[(chrom, pos, ref)] = {\n",
    "            'base_dict': base_dict,\n",
    "            'depth': depth\n",
    "        }\n",
    "    f.close()\n",
    "        \n",
    "    return readcount_dict"
   ]
  },
  {
   "cell_type": "code",
   "execution_count": 10,
   "metadata": {},
   "outputs": [],
   "source": [
    "def call_position(depth, ref_count, alt_count, min_depth=8, m=1):\n",
    "    if depth < min_depth * m:\n",
    "            return '.|.'\n",
    "\n",
    "    if ref_count is None or alt_count is None:\n",
    "        return '.|.'\n",
    "\n",
    "    # check hom ref\n",
    "    if ref_count >= 8 * m and alt_count < 4 * m:\n",
    "        return '0|0'\n",
    "    # check het\n",
    "    if ref_count >= 4 * m and alt_count >= 4 * m:\n",
    "        return '0|1'\n",
    "    # check hom alt\n",
    "    if alt_count >= 8 * m and ref_count < 4 * m:\n",
    "        return '1|1'\n",
    "\n",
    "    return '.|.'\n",
    "\n",
    "def call_positions(genomes_position_tups, readcount_dict):\n",
    "    \"\"\"\n",
    "    returns (chrom, pos, ref, alt, call)\n",
    "    \"\"\"\n",
    "\n",
    "    calls = []\n",
    "    for chrom, pos, ref, alt in genomes_position_tups:\n",
    "        d = readcount_dict.get((chrom, pos, ref))\n",
    "        if d is not None:\n",
    "            base_dict = d['base_dict']\n",
    "            depth = d['depth']\n",
    "            call = call_position(depth, base_dict.get(ref), base_dict.get(alt))\n",
    "            calls.append((chrom, pos, ref, alt, call))\n",
    "        else:\n",
    "            calls.append((chrom, pos, ref, alt, '.|.'))\n",
    "            \n",
    "    return calls"
   ]
  },
  {
   "cell_type": "code",
   "execution_count": 11,
   "metadata": {},
   "outputs": [],
   "source": [
    "def merge_sample_calls(sample_to_calls):\n",
    "    sample_columns = {s:[] for s in sample_to_calls.keys()}\n",
    "    \n",
    "    vcf_columns = {\n",
    "        'CHROM': [],\n",
    "        'POS': [],\n",
    "        'ID': [],\n",
    "        'REF': [],\n",
    "        'ALT': [],\n",
    "        'QUAL': [],\n",
    "        'FILTER': [],\n",
    "        'INFO': [],\n",
    "        'FORMAT': [],\n",
    "    }\n",
    "    \n",
    "    for chrom, pos, ref, alt, _ in list(sample_to_calls.values())[0]:\n",
    "        vcf_columns['CHROM'].append(chrom)\n",
    "        vcf_columns['POS'].append(pos)\n",
    "        vcf_columns['ID'].append('.')\n",
    "        vcf_columns['REF'].append(ref)\n",
    "        vcf_columns['ALT'].append(alt)\n",
    "        vcf_columns['QUAL'].append('.')\n",
    "        vcf_columns['FILTER'].append('PASS')\n",
    "        vcf_columns['INFO'].append('.')\n",
    "        vcf_columns['FORMAT'].append('GT')\n",
    "\n",
    "    for sample, calls in sample_to_calls.items():\n",
    "        sample_columns[sample] = [call for _, _, _, _, call in calls]\n",
    "        \n",
    "    sample_columns.update(vcf_columns)\n",
    "    \n",
    "    df = pd.DataFrame.from_dict(sample_columns)\n",
    "    sample_cols = sorted([s for s in sample_to_calls.keys()])\n",
    "    df = df[['CHROM', 'POS', 'ID', 'REF', 'ALT', 'QUAL', 'FILTER', 'INFO', 'FORMAT'] + sample_cols]\n",
    "    \n",
    "    return df\n",
    " "
   ]
  },
  {
   "cell_type": "code",
   "execution_count": 12,
   "metadata": {},
   "outputs": [],
   "source": [
    "def write_vcf(header, vcf_df, fp):\n",
    "    header_lines = header.strip().split('\\n')\n",
    "    if '#CHROM' in header_lines[-1]:\n",
    "        header = '\\n'.join(header_lines[:-1])\n",
    "    \n",
    "    df_str = vcf_df.to_csv(None, sep='\\t', index=False, header=False)\n",
    "    fields_str = '#' + '\\t'.join(vcf_df.columns) + '\\n'\n",
    "    to_write = header + '\\n' + fields_str + df_str\n",
    "    \n",
    "    f = open(fp, 'w')\n",
    "    f.write(to_write)\n",
    "    f.close()"
   ]
  },
  {
   "cell_type": "code",
   "execution_count": 14,
   "metadata": {},
   "outputs": [],
   "source": [
    "# fps = fps[:100]"
   ]
  },
  {
   "cell_type": "code",
   "execution_count": 17,
   "metadata": {},
   "outputs": [
    {
     "ename": "KeyboardInterrupt",
     "evalue": "",
     "output_type": "error",
     "traceback": [
      "\u001b[0;31m---------------------------------------------------------------------------\u001b[0m",
      "\u001b[0;31mKeyboardInterrupt\u001b[0m                         Traceback (most recent call last)",
      "\u001b[0;32m<ipython-input-17-700066530d5f>\u001b[0m in \u001b[0;36m<module>\u001b[0;34m\u001b[0m\n\u001b[1;32m      3\u001b[0m \u001b[0;34m\u001b[0m\u001b[0m\n\u001b[1;32m      4\u001b[0m sample_to_calls = {s.split('/')[-1].replace('.readcount', ''):call_positions(genomes_position_tups, readcount_dict) \n\u001b[0;32m----> 5\u001b[0;31m                    for s, readcount_dict in zip(fps, readcount_dicts)}\n\u001b[0m\u001b[1;32m      6\u001b[0m \u001b[0;34m\u001b[0m\u001b[0m\n\u001b[1;32m      7\u001b[0m \u001b[0mnew_df\u001b[0m \u001b[0;34m=\u001b[0m \u001b[0mmerge_sample_calls\u001b[0m\u001b[0;34m(\u001b[0m\u001b[0msample_to_calls\u001b[0m\u001b[0;34m)\u001b[0m\u001b[0;34m\u001b[0m\u001b[0m\n",
      "\u001b[0;32m<ipython-input-17-700066530d5f>\u001b[0m in \u001b[0;36m<dictcomp>\u001b[0;34m(.0)\u001b[0m\n\u001b[1;32m      3\u001b[0m \u001b[0;34m\u001b[0m\u001b[0m\n\u001b[1;32m      4\u001b[0m sample_to_calls = {s.split('/')[-1].replace('.readcount', ''):call_positions(genomes_position_tups, readcount_dict) \n\u001b[0;32m----> 5\u001b[0;31m                    for s, readcount_dict in zip(fps, readcount_dicts)}\n\u001b[0m\u001b[1;32m      6\u001b[0m \u001b[0;34m\u001b[0m\u001b[0m\n\u001b[1;32m      7\u001b[0m \u001b[0mnew_df\u001b[0m \u001b[0;34m=\u001b[0m \u001b[0mmerge_sample_calls\u001b[0m\u001b[0;34m(\u001b[0m\u001b[0msample_to_calls\u001b[0m\u001b[0;34m)\u001b[0m\u001b[0;34m\u001b[0m\u001b[0m\n",
      "\u001b[0;32m<ipython-input-10-3e76fc0866bb>\u001b[0m in \u001b[0;36mcall_positions\u001b[0;34m(genomes_position_tups, readcount_dict)\u001b[0m\n\u001b[1;32m     27\u001b[0m         \u001b[0md\u001b[0m \u001b[0;34m=\u001b[0m \u001b[0mreadcount_dict\u001b[0m\u001b[0;34m.\u001b[0m\u001b[0mget\u001b[0m\u001b[0;34m(\u001b[0m\u001b[0;34m(\u001b[0m\u001b[0mchrom\u001b[0m\u001b[0;34m,\u001b[0m \u001b[0mpos\u001b[0m\u001b[0;34m,\u001b[0m \u001b[0mref\u001b[0m\u001b[0;34m)\u001b[0m\u001b[0;34m)\u001b[0m\u001b[0;34m\u001b[0m\u001b[0m\n\u001b[1;32m     28\u001b[0m         \u001b[0;32mif\u001b[0m \u001b[0md\u001b[0m \u001b[0;32mis\u001b[0m \u001b[0;32mnot\u001b[0m \u001b[0;32mNone\u001b[0m\u001b[0;34m:\u001b[0m\u001b[0;34m\u001b[0m\u001b[0m\n\u001b[0;32m---> 29\u001b[0;31m             \u001b[0mbase_dict\u001b[0m \u001b[0;34m=\u001b[0m \u001b[0md\u001b[0m\u001b[0;34m[\u001b[0m\u001b[0;34m'base_dict'\u001b[0m\u001b[0;34m]\u001b[0m\u001b[0;34m\u001b[0m\u001b[0m\n\u001b[0m\u001b[1;32m     30\u001b[0m             \u001b[0mdepth\u001b[0m \u001b[0;34m=\u001b[0m \u001b[0md\u001b[0m\u001b[0;34m[\u001b[0m\u001b[0;34m'depth'\u001b[0m\u001b[0;34m]\u001b[0m\u001b[0;34m\u001b[0m\u001b[0m\n\u001b[1;32m     31\u001b[0m             \u001b[0mcall\u001b[0m \u001b[0;34m=\u001b[0m \u001b[0mcall_position\u001b[0m\u001b[0;34m(\u001b[0m\u001b[0mdepth\u001b[0m\u001b[0;34m,\u001b[0m \u001b[0mbase_dict\u001b[0m\u001b[0;34m.\u001b[0m\u001b[0mget\u001b[0m\u001b[0;34m(\u001b[0m\u001b[0mref\u001b[0m\u001b[0;34m)\u001b[0m\u001b[0;34m,\u001b[0m \u001b[0mbase_dict\u001b[0m\u001b[0;34m.\u001b[0m\u001b[0mget\u001b[0m\u001b[0;34m(\u001b[0m\u001b[0malt\u001b[0m\u001b[0;34m)\u001b[0m\u001b[0;34m)\u001b[0m\u001b[0;34m\u001b[0m\u001b[0m\n",
      "\u001b[0;31mKeyboardInterrupt\u001b[0m: "
     ]
    }
   ],
   "source": [
    "genomes_position_tups, genomes_header = get_headerless_vcf_position_tups(open(GENOMES_VCF))\n",
    "readcount_dicts = [get_readcount_dict(fp) for fp in fps]\n",
    "\n",
    "sample_to_calls = {s.split('/')[-1].replace('.readcount', ''):call_positions(genomes_position_tups, readcount_dict) \n",
    "                   for s, readcount_dict in zip(fps, readcount_dicts)}\n",
    "\n",
    "new_df = merge_sample_calls(sample_to_calls)\n",
    "\n",
    "write_vcf(genomes_header, new_df, OUTPUT_VCF_FP)"
   ]
  },
  {
   "cell_type": "code",
   "execution_count": null,
   "metadata": {},
   "outputs": [],
   "source": []
  },
  {
   "cell_type": "code",
   "execution_count": null,
   "metadata": {},
   "outputs": [],
   "source": []
  },
  {
   "cell_type": "code",
   "execution_count": null,
   "metadata": {},
   "outputs": [],
   "source": []
  },
  {
   "cell_type": "code",
   "execution_count": null,
   "metadata": {},
   "outputs": [],
   "source": []
  },
  {
   "cell_type": "code",
   "execution_count": null,
   "metadata": {},
   "outputs": [],
   "source": []
  }
 ],
 "metadata": {
  "kernelspec": {
   "display_name": "Python 3",
   "language": "python",
   "name": "python3"
  },
  "language_info": {
   "codemirror_mode": {
    "name": "ipython",
    "version": 3
   },
   "file_extension": ".py",
   "mimetype": "text/x-python",
   "name": "python",
   "nbconvert_exporter": "python",
   "pygments_lexer": "ipython3",
   "version": "3.6.3"
  }
 },
 "nbformat": 4,
 "nbformat_minor": 2
}
